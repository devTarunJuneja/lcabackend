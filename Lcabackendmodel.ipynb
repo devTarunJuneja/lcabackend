{
 "cells": [
  {
   "cell_type": "code",
   "execution_count": 2,
   "id": "8fd79039",
   "metadata": {},
   "outputs": [
    {
     "name": "stdout",
     "output_type": "stream",
     "text": [
      "Model trained and saved as lca_model_extended.pkl\n"
     ]
    }
   ],
   "source": [
    "# lca_model_extended.ipynb\n",
    "\n",
    "import pandas as pd\n",
    "from sklearn.preprocessing import OneHotEncoder\n",
    "from sklearn.compose import ColumnTransformer\n",
    "from sklearn.ensemble import RandomForestRegressor\n",
    "from sklearn.pipeline import Pipeline\n",
    "from sklearn.multioutput import MultiOutputRegressor\n",
    "import pickle\n",
    "\n",
    "# 1. Load data\n",
    "data = pd.read_csv(\"lca_dataset.csv\")\n",
    "\n",
    "# 2. Features and targets\n",
    "X = data[[\"material\",\"route\",\"quantity\",\"energy_mwh\",\"transport_km\",\"end_of_life\",\n",
    "          \"process_stage1_energy\",\"process_stage2_energy\",\"process_stage3_energy\"]]\n",
    "\n",
    "y = data[[\"co2_kg\",\"water_l\",\"waste_kg\",\"recycled_content\",\"resource_efficiency\",\"extended_life\",\"reuse_potential\"]]\n",
    "\n",
    "# 3. Preprocessing\n",
    "categorical_features = [\"material\",\"route\",\"end_of_life\"]\n",
    "numerical_features = [\"quantity\",\"energy_mwh\",\"transport_km\",\"process_stage1_energy\",\"process_stage2_energy\",\"process_stage3_energy\"]\n",
    "\n",
    "preprocessor = ColumnTransformer(\n",
    "    transformers=[\n",
    "        (\"cat\", OneHotEncoder(handle_unknown=\"ignore\"), categorical_features),\n",
    "        (\"num\", \"passthrough\", numerical_features)\n",
    "    ]\n",
    ")\n",
    "\n",
    "# 4. Multi-output regression\n",
    "model = Pipeline([\n",
    "    (\"preprocessor\", preprocessor),\n",
    "    (\"regressor\", MultiOutputRegressor(RandomForestRegressor(n_estimators=100, random_state=42)))\n",
    "])\n",
    "\n",
    "# 5. Train\n",
    "model.fit(X, y)\n",
    "\n",
    "# 6. Save model\n",
    "with open(\"lca_model_extended.pkl\", \"wb\") as f:\n",
    "    pickle.dump(model, f)\n",
    "\n",
    "print(\"Model trained and saved as lca_model_extended.pkl\")\n"
   ]
  }
 ],
 "metadata": {
  "kernelspec": {
   "display_name": "Python 3",
   "language": "python",
   "name": "python3"
  },
  "language_info": {
   "codemirror_mode": {
    "name": "ipython",
    "version": 3
   },
   "file_extension": ".py",
   "mimetype": "text/x-python",
   "name": "python",
   "nbconvert_exporter": "python",
   "pygments_lexer": "ipython3",
   "version": "3.12.6"
  }
 },
 "nbformat": 4,
 "nbformat_minor": 5
}
